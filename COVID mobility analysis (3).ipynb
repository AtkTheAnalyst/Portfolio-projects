{
 "cells": [
  {
   "cell_type": "markdown",
   "id": "d2e94724-caca-4d53-a3ea-65aba5a9ce02",
   "metadata": {},
   "source": [
    "\n",
    "<h1 align=\"center\"><font size=\"5\">COVID mobility analysis </font></h1>\n",
    "\n"
   ]
  },
  {
   "cell_type": "markdown",
   "id": "5024dab2-3ad5-4f67-b2b3-72d00dd80899",
   "metadata": {},
   "source": [
    "<h2>Table of Contents</h2>\n",
    "\n",
    "<div class=\"alert alert-block alert-info\" style=\"background-color:yellow, margin-top: 20px\">\n",
    "    <ul>\n",
    "    <!-- <li><a href=\"#Instructions\">Instructions</a></li> -->\n",
    "    <li><a href=\"#Objectives:\">Objective:</a></li>\n",
    "    <!-- <li><a href=\"#Module-1:-Importing-Data-Sets\">Module 1: Importing Data </a></li> -->\n",
    "    <li><a href=\"#Data-Wrangling\">Data Wrangling</a> </li>\n",
    "    <li><a href=\"#Analyse Specific Routes or Areas\">Analyse Specific Routes or Areas</a></li>\n",
    "</a></li>\n",
    "</div>\n",
    "<!-- <p>Estimated Time Needed: <strong>75 min</strong></p> -->\n",
    "</div>\n",
    "\n",
    "<hr>"
   ]
  },
  {
   "cell_type": "markdown",
   "id": "9176fe50-b3c5-4a2c-a04c-ec9d6e543361",
   "metadata": {},
   "source": [
    "# Objectives:"
   ]
  },
  {
   "cell_type": "markdown",
   "id": "e4cb3355-3cb9-4d9d-ab02-59d08ffce6d2",
   "metadata": {},
   "source": [
    "The government wants to analyse the impact of their social distancing and mobility reduction \n",
    "policy that they had put in place during the COVID"
   ]
  },
  {
   "cell_type": "code",
   "execution_count": 30,
   "id": "0a7eb464-6a24-426a-831e-66f6a3eef636",
   "metadata": {},
   "outputs": [],
   "source": [
    "# Import necessary libraries\n",
    "import pandas as pd\n",
    "import glob\n",
    "import os"
   ]
  },
  {
   "cell_type": "code",
   "execution_count": 77,
   "id": "c8318b48-0616-4777-94b7-4e45e3c3c710",
   "metadata": {},
   "outputs": [],
   "source": [
    "data_folder = r\"C:\\Users\\PC\\Documents\\Interviews\\giga_hiring_challenge\\giga_hiring_challenge\\mobility_4_test\""
   ]
  },
  {
   "cell_type": "code",
   "execution_count": 79,
   "id": "8ce92e7d-b510-4045-b198-0720829892a2",
   "metadata": {},
   "outputs": [],
   "source": [
    "# Step 1: Read and Combine Data Files\n",
    "# Use glob to read all CSV files in the folder\n",
    "csv_files = glob.glob(os.path.join(data_folder, \"*.csv\"))"
   ]
  },
  {
   "cell_type": "code",
   "execution_count": 81,
   "id": "ee866d89-9c94-417f-835e-a0faca7a87a0",
   "metadata": {},
   "outputs": [],
   "source": [
    "# Create an empty list to store dataframes\n",
    "dataframes = []"
   ]
  },
  {
   "cell_type": "code",
   "execution_count": 83,
   "id": "0bfb893d-9110-4920-a579-fc85f3787fe5",
   "metadata": {},
   "outputs": [],
   "source": [
    "# Loop through each file and load it into a DataFrame\n",
    "for file in csv_files:\n",
    "    # Extract the time period from the filename (e.g., day1_0000.csv -> 0000)\n",
    "    time_period = file.split(\"_\")[-1].replace(\".csv\", \"\")\n",
    "    \n",
    "    # Read the CSV file\n",
    "    df = pd.read_csv(file)\n",
    "    \n",
    "    # Add a 'Time_Period' column to indicate the time of day\n",
    "    df['Time_Period'] = time_period\n",
    "    \n",
    "    # Append the DataFrame to the list\n",
    "    dataframes.append(df)"
   ]
  },
  {
   "cell_type": "code",
   "execution_count": 85,
   "id": "dbea259b-2578-4765-be60-737b87c00be9",
   "metadata": {},
   "outputs": [],
   "source": [
    "# Combine all DataFrames into a single DataFrame\n",
    "combined_df = pd.concat(dataframes, ignore_index=True)\n"
   ]
  },
  {
   "cell_type": "markdown",
   "id": "71a9b70c-1535-40d5-8371-cc80f7d14cd7",
   "metadata": {},
   "source": [
    "# Data Wrangling"
   ]
  },
  {
   "cell_type": "code",
   "execution_count": 88,
   "id": "bae321ab-4d9b-40ae-8293-b0213bc48d14",
   "metadata": {},
   "outputs": [
    {
     "name": "stdout",
     "output_type": "stream",
     "text": [
      "First 5 rows of the combined data:\n",
      "   Unnamed: 0  index  Baseline: People Moving  Crisis: People Moving  \\\n",
      "0           0   7515                14.000000                     30   \n",
      "1           1   7517                11.000000                     24   \n",
      "2           2   7519                16.666667                     45   \n",
      "3           3   7520                14.000000                     31   \n",
      "4           4   7542                13.000000                     38   \n",
      "\n",
      "          x0        y0         x1        y1 Time_Period  \n",
      "0  62.788086  8.425543  62.963867  8.425543        0000  \n",
      "1  62.788086  8.425543  63.227540  8.256863        0000  \n",
      "2  62.788086  8.425543  63.315430  8.172468        0000  \n",
      "3  62.788086  8.425543  63.491210  8.425543        0000  \n",
      "4  62.788086  9.350634  63.139650  9.350634        0000  \n"
     ]
    }
   ],
   "source": [
    "# Step 2: Explore the Combined Data\n",
    "print(\"First 5 rows of the combined data:\")\n",
    "print(combined_df.head())\n"
   ]
  },
  {
   "cell_type": "code",
   "execution_count": 92,
   "id": "176c88d6-f2ca-4133-bb76-0637b9f142ef",
   "metadata": {},
   "outputs": [
    {
     "data": {
      "text/html": [
       "<div>\n",
       "<style scoped>\n",
       "    .dataframe tbody tr th:only-of-type {\n",
       "        vertical-align: middle;\n",
       "    }\n",
       "\n",
       "    .dataframe tbody tr th {\n",
       "        vertical-align: top;\n",
       "    }\n",
       "\n",
       "    .dataframe thead th {\n",
       "        text-align: right;\n",
       "    }\n",
       "</style>\n",
       "<table border=\"1\" class=\"dataframe\">\n",
       "  <thead>\n",
       "    <tr style=\"text-align: right;\">\n",
       "      <th></th>\n",
       "      <th>Unnamed: 0</th>\n",
       "      <th>index</th>\n",
       "      <th>Baseline: People Moving</th>\n",
       "      <th>Crisis: People Moving</th>\n",
       "      <th>x0</th>\n",
       "      <th>y0</th>\n",
       "      <th>x1</th>\n",
       "      <th>y1</th>\n",
       "      <th>Time_Period</th>\n",
       "    </tr>\n",
       "  </thead>\n",
       "  <tbody>\n",
       "    <tr>\n",
       "      <th>0</th>\n",
       "      <td>0</td>\n",
       "      <td>7515</td>\n",
       "      <td>14</td>\n",
       "      <td>30</td>\n",
       "      <td>62.788086</td>\n",
       "      <td>8.425543</td>\n",
       "      <td>62.963867</td>\n",
       "      <td>8.425543</td>\n",
       "      <td>0000</td>\n",
       "    </tr>\n",
       "    <tr>\n",
       "      <th>1</th>\n",
       "      <td>1</td>\n",
       "      <td>7517</td>\n",
       "      <td>11</td>\n",
       "      <td>24</td>\n",
       "      <td>62.788086</td>\n",
       "      <td>8.425543</td>\n",
       "      <td>63.227540</td>\n",
       "      <td>8.256863</td>\n",
       "      <td>0000</td>\n",
       "    </tr>\n",
       "    <tr>\n",
       "      <th>2</th>\n",
       "      <td>2</td>\n",
       "      <td>7519</td>\n",
       "      <td>17</td>\n",
       "      <td>45</td>\n",
       "      <td>62.788086</td>\n",
       "      <td>8.425543</td>\n",
       "      <td>63.315430</td>\n",
       "      <td>8.172468</td>\n",
       "      <td>0000</td>\n",
       "    </tr>\n",
       "    <tr>\n",
       "      <th>3</th>\n",
       "      <td>3</td>\n",
       "      <td>7520</td>\n",
       "      <td>14</td>\n",
       "      <td>31</td>\n",
       "      <td>62.788086</td>\n",
       "      <td>8.425543</td>\n",
       "      <td>63.491210</td>\n",
       "      <td>8.425543</td>\n",
       "      <td>0000</td>\n",
       "    </tr>\n",
       "    <tr>\n",
       "      <th>4</th>\n",
       "      <td>4</td>\n",
       "      <td>7542</td>\n",
       "      <td>13</td>\n",
       "      <td>38</td>\n",
       "      <td>62.788086</td>\n",
       "      <td>9.350634</td>\n",
       "      <td>63.139650</td>\n",
       "      <td>9.350634</td>\n",
       "      <td>0000</td>\n",
       "    </tr>\n",
       "  </tbody>\n",
       "</table>\n",
       "</div>"
      ],
      "text/plain": [
       "   Unnamed: 0  index  Baseline: People Moving  Crisis: People Moving  \\\n",
       "0           0   7515                       14                     30   \n",
       "1           1   7517                       11                     24   \n",
       "2           2   7519                       17                     45   \n",
       "3           3   7520                       14                     31   \n",
       "4           4   7542                       13                     38   \n",
       "\n",
       "          x0        y0         x1        y1 Time_Period  \n",
       "0  62.788086  8.425543  62.963867  8.425543        0000  \n",
       "1  62.788086  8.425543  63.227540  8.256863        0000  \n",
       "2  62.788086  8.425543  63.315430  8.172468        0000  \n",
       "3  62.788086  8.425543  63.491210  8.425543        0000  \n",
       "4  62.788086  9.350634  63.139650  9.350634        0000  "
      ]
     },
     "execution_count": 92,
     "metadata": {},
     "output_type": "execute_result"
    }
   ],
   "source": [
    "combined_df['Baseline: People Moving'] = combined_df['Baseline: People Moving'].round(0).astype(int)\n",
    "combined_df.head()"
   ]
  },
  {
   "cell_type": "code",
   "execution_count": 94,
   "id": "079192f9-6d5d-4667-9669-5813239259a8",
   "metadata": {},
   "outputs": [
    {
     "name": "stdout",
     "output_type": "stream",
     "text": [
      "\n",
      "Summary of the combined data:\n",
      "<class 'pandas.core.frame.DataFrame'>\n",
      "RangeIndex: 14159 entries, 0 to 14158\n",
      "Data columns (total 9 columns):\n",
      " #   Column                   Non-Null Count  Dtype  \n",
      "---  ------                   --------------  -----  \n",
      " 0   Unnamed: 0               14159 non-null  int64  \n",
      " 1   index                    14159 non-null  int64  \n",
      " 2   Baseline: People Moving  14159 non-null  int32  \n",
      " 3   Crisis: People Moving    14159 non-null  int64  \n",
      " 4   x0                       14159 non-null  float64\n",
      " 5   y0                       14159 non-null  float64\n",
      " 6   x1                       14159 non-null  float64\n",
      " 7   y1                       14159 non-null  float64\n",
      " 8   Time_Period              14159 non-null  object \n",
      "dtypes: float64(4), int32(1), int64(3), object(1)\n",
      "memory usage: 940.4+ KB\n",
      "None\n"
     ]
    }
   ],
   "source": [
    "print(\"\\nSummary of the combined data:\")\n",
    "print(combined_df.info())"
   ]
  },
  {
   "cell_type": "code",
   "execution_count": 96,
   "id": "82d9ce85-9c81-4051-ab96-7dbd5cc8a0c8",
   "metadata": {},
   "outputs": [
    {
     "name": "stdout",
     "output_type": "stream",
     "text": [
      "\n",
      "Descriptive statistics of numeric columns:\n",
      "         Unnamed: 0         index  Baseline: People Moving  \\\n",
      "count  14159.000000  14159.000000             14159.000000   \n",
      "mean     397.902394   8416.429903                28.915178   \n",
      "std      268.912049   2600.544326                45.059422   \n",
      "min        0.000000   2040.000000                10.000000   \n",
      "25%      168.000000   7281.500000                13.000000   \n",
      "50%      354.000000   8881.000000                17.000000   \n",
      "75%      611.000000  10261.000000                28.000000   \n",
      "max     1072.000000  12536.000000               840.000000   \n",
      "\n",
      "       Crisis: People Moving            x0            y0            x1  \\\n",
      "count           14159.000000  14159.000000  14159.000000  14159.000000   \n",
      "mean               76.775478     64.843849     10.480703     64.851037   \n",
      "std               123.669774      1.002030      1.317154      0.986637   \n",
      "min                10.000000     62.612305      8.425543     62.963867   \n",
      "25%                33.000000     63.930664      9.266724     63.930664   \n",
      "50%                47.000000     65.424805     10.687874     65.424805   \n",
      "75%                75.000000     65.688480     11.766699     65.688480   \n",
      "max              2384.000000     65.864260     12.756109     65.864260   \n",
      "\n",
      "                 y1  \n",
      "count  14159.000000  \n",
      "mean      10.476967  \n",
      "std        1.319519  \n",
      "min        8.088038  \n",
      "25%        9.266724  \n",
      "50%       10.687874  \n",
      "75%       11.766699  \n",
      "max       12.673901  \n"
     ]
    }
   ],
   "source": [
    "print(\"\\nDescriptive statistics of numeric columns:\")\n",
    "print(combined_df.describe())"
   ]
  },
  {
   "cell_type": "code",
   "execution_count": 98,
   "id": "be7078e8-d8d8-40c5-bb78-5aa9e04cd3c8",
   "metadata": {},
   "outputs": [
    {
     "name": "stdout",
     "output_type": "stream",
     "text": [
      "\n",
      "Missing values in each column:\n",
      "Unnamed: 0                 0\n",
      "index                      0\n",
      "Baseline: People Moving    0\n",
      "Crisis: People Moving      0\n",
      "x0                         0\n",
      "y0                         0\n",
      "x1                         0\n",
      "y1                         0\n",
      "Time_Period                0\n",
      "dtype: int64\n"
     ]
    }
   ],
   "source": [
    "# Step 3: Check for Missing Values\n",
    "print(\"\\nMissing values in each column:\")\n",
    "print(combined_df.isnull().sum())"
   ]
  },
  {
   "cell_type": "code",
   "execution_count": 100,
   "id": "9ebaef97-0a4e-430b-9fa7-9dd31bd9e528",
   "metadata": {},
   "outputs": [
    {
     "name": "stdout",
     "output_type": "stream",
     "text": [
      "\n",
      "Number of duplicate rows: 0\n"
     ]
    }
   ],
   "source": [
    "# Step 4: Check for Duplicates\n",
    "duplicate_rows = combined_df.duplicated()\n",
    "print(f\"\\nNumber of duplicate rows: {duplicate_rows.sum()}\")"
   ]
  },
  {
   "cell_type": "code",
   "execution_count": 102,
   "id": "83d4b322-f886-4ea0-9ba8-49485b5b7ca6",
   "metadata": {},
   "outputs": [],
   "source": [
    "# Step 1: Drop irrelevant columns\n",
    "cleaned_df = combined_df.drop(columns=['Unnamed: 0', 'index'])"
   ]
  },
  {
   "cell_type": "code",
   "execution_count": 104,
   "id": "ae2ac7ad-7dde-476f-b158-b04db307b6ec",
   "metadata": {},
   "outputs": [],
   "source": [
    "# Step 2: Extract Day from filenames and add as a new column\n",
    "combined_df['Day'] = combined_df['Time_Period'].apply(lambda x: x.split(\"_\")[0] if \"day\" in x else \"Unknown\")\n"
   ]
  },
  {
   "cell_type": "code",
   "execution_count": 106,
   "id": "38e1437d-7af5-43f7-b98a-204cb5391bad",
   "metadata": {},
   "outputs": [],
   "source": [
    "# Step 3: Aggregate movement data over Time Periods\n",
    "summary_df = cleaned_df.groupby(['Time_Period']).agg({\n",
    "    'Baseline: People Moving': 'sum',\n",
    "    'Crisis: People Moving': 'sum'\n",
    "}).reset_index()"
   ]
  },
  {
   "cell_type": "code",
   "execution_count": 108,
   "id": "e742e972-ab3e-4ef9-aecd-bbf0e3245df3",
   "metadata": {},
   "outputs": [],
   "source": [
    "# Step 4: Calculate percentage reduction during the crisis\n",
    "summary_df['Reduction (%)'] = (\n",
    "    (summary_df['Baseline: People Moving'] - summary_df['Crisis: People Moving']) / \n",
    "    summary_df['Baseline: People Moving']\n",
    ") * 100"
   ]
  },
  {
   "cell_type": "code",
   "execution_count": 110,
   "id": "255363a9-584e-4fcb-95b7-723c62ddf597",
   "metadata": {},
   "outputs": [
    {
     "name": "stdout",
     "output_type": "stream",
     "text": [
      "Aggregated Data by Time Period:\n",
      "  Time_Period  Baseline: People Moving  Crisis: People Moving  Reduction (%)\n",
      "0        0000                   163013                 437616    -168.454663\n",
      "1        0800                   193367                 512021    -164.792338\n",
      "2        1600                    53030                 137427    -159.149538\n"
     ]
    }
   ],
   "source": [
    "# Display the processed summary\n",
    "print(\"Aggregated Data by Time Period:\")\n",
    "print(summary_df)"
   ]
  },
  {
   "cell_type": "code",
   "execution_count": 112,
   "id": "89b64b6a-de9c-4527-87be-3ea36dea9bce",
   "metadata": {},
   "outputs": [],
   "source": [
    "# Step 5: Plot results\n",
    "import matplotlib.pyplot as plt"
   ]
  },
  {
   "cell_type": "code",
   "execution_count": 114,
   "id": "2aade4a7-abde-4d38-b4e5-ead2f6ee2e31",
   "metadata": {},
   "outputs": [
    {
     "data": {
      "image/png": "[encoded data removed]",
      "text/plain": [
       "<Figure size 1000x600 with 1 Axes>"
      ]
     },
     "metadata": {},
     "output_type": "display_data"
    }
   ],
   "source": [
    "plt.figure(figsize=(10, 6))\n",
    "plt.plot(summary_df['Time_Period'], summary_df['Baseline: People Moving'], marker='o', label='Baseline')\n",
    "plt.plot(summary_df['Time_Period'], summary_df['Crisis: People Moving'], marker='o', label='Crisis')\n",
    "plt.xlabel('Time Period')\n",
    "plt.ylabel('Number of People Moving')\n",
    "plt.title('Change in Movement Before and During Crisis')\n",
    "plt.legend()\n",
    "plt.grid()\n",
    "plt.show()"
   ]
  },
  {
   "cell_type": "markdown",
   "id": "4605a029-ab85-464d-aff5-0a16cae57482",
   "metadata": {},
   "source": [
    "This line plot suggests unexpected behaviour where mobility rose instead of reducing during the crisis. "
   ]
  },
  {
   "cell_type": "markdown",
   "id": "8bf40273-f3e2-46bc-99c4-152dcaf360cc",
   "metadata": {},
   "source": [
    "#### Validate the Increase in Movement\n",
    "Double-check if the calculations for Baseline: People Moving and Crisis: People Moving are correct."
   ]
  },
  {
   "cell_type": "code",
   "execution_count": 118,
   "id": "d7b845e8-01b5-4e08-a343-d50533ec780c",
   "metadata": {},
   "outputs": [
    {
     "name": "stdout",
     "output_type": "stream",
     "text": [
      "   Baseline: People Moving  Crisis: People Moving\n",
      "0                       14                     30\n",
      "1                       11                     24\n",
      "2                       17                     45\n",
      "3                       14                     31\n",
      "4                       13                     38\n",
      "5                       12                     28\n",
      "6                       34                     32\n",
      "7                       14                     45\n",
      "8                       22                     56\n",
      "9                       17                     34\n"
     ]
    }
   ],
   "source": [
    "# Verify total counts for a few rows\n",
    "print(cleaned_df.head(10)[['Baseline: People Moving', 'Crisis: People Moving']])\n"
   ]
  },
  {
   "cell_type": "markdown",
   "id": "cdb88c20-ee4e-425a-81b6-7a187c864719",
   "metadata": {},
   "source": [
    "#### Look at Trends Over Days\n",
    "Since we combined 7 days of data, let's aggregate the data per day to identify patterns across each day and period."
   ]
  },
  {
   "cell_type": "code",
   "execution_count": 122,
   "id": "7557e436-c241-496c-bffb-512afd4033ad",
   "metadata": {},
   "outputs": [
    {
     "name": "stdout",
     "output_type": "stream",
     "text": [
      "Daily Trends in Movement Data:\n",
      "    Day Time_Period  Baseline: People Moving  Crisis: People Moving  \\\n",
      "0     0        0000                    26456                  74316   \n",
      "1     0        0800                    30257                  84761   \n",
      "2     0        1600                     3234                   8219   \n",
      "3     1        0000                    25556                  70679   \n",
      "4     1        0800                    29374                  80097   \n",
      "5     1        1600                     4957                  15283   \n",
      "6     2        0000                    22465                  67321   \n",
      "7     2        0800                    26016                  78234   \n",
      "8     2        1600                     8833                  24158   \n",
      "9     3        0000                    28957                  70398   \n",
      "10    3        0800                    25260                  58145   \n",
      "11    3        1600                     4407                  14971   \n",
      "12    4        0000                    25754                  68512   \n",
      "13    4        0800                    25034                  61352   \n",
      "14    4        1600                     8533                  21069   \n",
      "15    5        0000                    19761                  51548   \n",
      "16    5        0800                    32660                  89286   \n",
      "17    5        1600                     8571                  20268   \n",
      "18    6        0000                    14064                  34842   \n",
      "19    6        0800                    24766                  60146   \n",
      "20    6        1600                    14423                  33264   \n",
      "21    7        1600                       72                    195   \n",
      "\n",
      "    Reduction (%)  \n",
      "0     -180.904143  \n",
      "1     -180.136828  \n",
      "2     -154.143476  \n",
      "3     -176.565190  \n",
      "4     -172.679921  \n",
      "5     -208.311479  \n",
      "6     -199.670599  \n",
      "7     -200.714945  \n",
      "8     -173.497113  \n",
      "9     -143.112201  \n",
      "10    -130.186065  \n",
      "11    -239.709553  \n",
      "12    -166.024695  \n",
      "13    -145.074698  \n",
      "14    -146.911989  \n",
      "15    -160.857244  \n",
      "16    -173.380282  \n",
      "17    -136.471824  \n",
      "18    -147.738908  \n",
      "19    -142.857143  \n",
      "20    -130.631630  \n",
      "21    -170.833333  \n"
     ]
    }
   ],
   "source": [
    "# Extract Day information from Time_Period if applicable\n",
    "cleaned_df['Day'] = cleaned_df.index // (len(combined_df) // 7)  # Assuming ~7 days\n",
    "summary_daily = cleaned_df.groupby(['Day', 'Time_Period']).agg({\n",
    "    'Baseline: People Moving': 'sum',\n",
    "    'Crisis: People Moving': 'sum'\n",
    "}).reset_index()\n",
    "\n",
    "# Recalculate reduction\n",
    "summary_daily['Reduction (%)'] = (\n",
    "    (summary_daily['Baseline: People Moving'] - summary_daily['Crisis: People Moving']) /\n",
    "    summary_daily['Baseline: People Moving']\n",
    ") * 100\n",
    "\n",
    "# Display summary\n",
    "print(\"Daily Trends in Movement Data:\")\n",
    "print(summary_daily)\n"
   ]
  },
  {
   "cell_type": "markdown",
   "id": "f5f298be-0b26-4173-b1f7-7ce6fdb77a0f",
   "metadata": {},
   "source": [
    "# Analyse Specific Routes or Areas\n",
    "Break down the data further by x0, y0 (origin) and x1, y1 (destination) to see if specific routes have more movement increases."
   ]
  },
  {
   "cell_type": "code",
   "execution_count": 125,
   "id": "f31a1355-e0b8-4214-bb6c-5cf22b3fcd33",
   "metadata": {},
   "outputs": [
    {
     "name": "stdout",
     "output_type": "stream",
     "text": [
      "Top 5 Routes by Movement During Crisis:\n",
      "         x0         y0        x1         y1  Crisis: People Moving\n",
      "0  65.77637  11.766699  65.77637  11.849388                  31047\n",
      "1  65.77637  11.849388  65.77637  11.766699                  31002\n",
      "2  65.68848  10.687874  65.68848  10.771111                  11923\n",
      "3  65.68848  10.771111  65.68848  10.687874                  11529\n",
      "4  65.77637  11.766699  65.86426  11.766699                  11145\n"
     ]
    }
   ],
   "source": [
    "# Find top 5 routes by Crisis movement\n",
    "top_routes = cleaned_df.groupby(['x0', 'y0', 'x1', 'y1']).agg({\n",
    "    'Crisis: People Moving': 'sum'\n",
    "}).sort_values(by='Crisis: People Moving', ascending=False).head(5).reset_index()\n",
    "\n",
    "print(\"Top 5 Routes by Movement During Crisis:\")\n",
    "print(top_routes)\n"
   ]
  },
  {
   "cell_type": "markdown",
   "id": "46dcc146-1cd6-46fa-865c-8de30c913473",
   "metadata": {},
   "source": [
    "#### Reassess Visualisation\n",
    "We can use a stacked bar chart to compare baseline vs crisis movements across all Time_Periods."
   ]
  },
  {
   "cell_type": "code",
   "execution_count": 128,
   "id": "353dbb0d-262c-4437-8645-9d41d12fdc52",
   "metadata": {},
   "outputs": [
    {
     "data": {
      "image/png": "[encoded data removed]",
      "text/plain": [
       "<Figure size 1000x600 with 1 Axes>"
      ]
     },
     "metadata": {},
     "output_type": "display_data"
    }
   ],
   "source": [
    "import seaborn as sns\n",
    "\n",
    "plt.figure(figsize=(10, 6))\n",
    "summary_melted = summary_df.melt(id_vars='Time_Period', value_vars=['Baseline: People Moving', 'Crisis: People Moving'],\n",
    "                                 var_name='Type', value_name='People Moving')\n",
    "\n",
    "sns.barplot(x='Time_Period', y='People Moving', hue='Type', data=summary_melted)\n",
    "plt.title('Baseline vs Crisis Movement by Time Period')\n",
    "plt.ylabel('Number of People Moving')\n",
    "plt.xlabel('Time Period')\n",
    "plt.show()\n"
   ]
  },
  {
   "cell_type": "markdown",
   "id": "8bc267ac-6454-4da9-8a02-d97227af9d9f",
   "metadata": {},
   "source": [
    "Looks like the calculations are correct and this is indeed a case where mobility numbers rose during the crisis, instead of decreasing."
   ]
  },
  {
   "cell_type": "markdown",
   "id": "95253d28-e467-40ad-a868-9328005e193e",
   "metadata": {},
   "source": [
    "#### 1. Key Observations"
   ]
  },
  {
   "cell_type": "markdown",
   "id": "7b506b10-cb36-4962-b648-d3f8f5727479",
   "metadata": {},
   "source": [
    "#### Daily Trends"
   ]
  },
  {
   "cell_type": "markdown",
   "id": "429fef50-2502-4d5d-b9f6-b8d8f06195a6",
   "metadata": {},
   "source": [
    "1. Movement Increase: The \"Crisis: People Moving\" consistently surpasses the baseline across almost all days and time periods.\n",
    "2. High Negative Reduction Percentages:\n",
    "   - Reduction percentages like -200% or lower on specific days (e.g., Day 1 and Day 6) and time slots suggest substantial increases during the crisis.\n",
    "   - Evening time periods (1600) generally report higher negative reductions, indicating a more significant rise in movement compared to morning or   midnight periods."
   ]
  },
  {
   "cell_type": "markdown",
   "id": "b07eae91-e410-4600-a4ba-31cae4b32390",
   "metadata": {},
   "source": [
    "#### Top Routes by Movement\n"
   ]
  },
  {
   "cell_type": "markdown",
   "id": "9158dea8-4d69-487d-b4f7-86573234f7ec",
   "metadata": {},
   "source": [
    "1. Most Frequent Routes:\n",
    "    - The top routes predominantly occur between the same origin and destination points, likely indicating circular routes or repeated movements.\n",
    "    - For example:\n",
    "        - (65.77637, 11.766699 ↔ 65.849388) routes dominate the top positions with over 30,000 people moving.\n",
    "        - This trend suggests heightened activity or localised movement clusters"
   ]
  },
  {
   "cell_type": "markdown",
   "id": "62b9c314-14b1-4dc4-b3a3-9e94381c5808",
   "metadata": {},
   "source": [
    "#### Insights and Potential Causes"
   ]
  },
  {
   "cell_type": "markdown",
   "id": "c1b7411b-1748-4895-ae0e-4cf4942e3e78",
   "metadata": {},
   "source": [
    "1. Increased Local Movement:\n",
    "    - The surge in movement may be due to local migration, panic movement, or operational shifts during the crisis (e.g., increased supply chain activities, evacuation)."
   ]
  },
  {
   "cell_type": "markdown",
   "id": "4c72adb3-4975-43ab-8e6d-9926d1e93c1e",
   "metadata": {},
   "source": [
    "2. Route Symmetry and Circular Patterns:\n",
    "    - Repeated movements on short routes indicate possible logistical operations or local commutes."
   ]
  },
  {
   "cell_type": "markdown",
   "id": "e3d12e57-8734-4a5a-b79c-5132b93fc63f",
   "metadata": {},
   "source": [
    "3. Specific Time Trends:\n",
    "    - Evening slots (1600) appear to show the largest percentage increases, possibly reflecting the end-of-day movement or traffic peaks."
   ]
  },
  {
   "cell_type": "markdown",
   "id": "3a14c1bb-cbb9-4648-8de2-962283876cb0",
   "metadata": {},
   "source": [
    "# Visualise Differences"
   ]
  },
  {
   "cell_type": "markdown",
   "id": "a07c4026-9772-44f8-8ea0-1521457ac92b",
   "metadata": {},
   "source": [
    "Use bar charts to visualise areas where mobility remains high or low."
   ]
  },
  {
   "cell_type": "markdown",
   "id": "26971f8a-23c9-4069-8bf4-10efd8c73ddb",
   "metadata": {},
   "source": [
    "#### Difference Calculation"
   ]
  },
  {
   "cell_type": "code",
   "execution_count": 240,
   "id": "e5427419-a0d6-492b-856c-6e55de2716f0",
   "metadata": {},
   "outputs": [
    {
     "name": "stdout",
     "output_type": "stream",
     "text": [
      "          x0        y0  Crisis: People Moving  Baseline: People Moving  \\\n",
      "0  62.788086  8.425543                     30                       14   \n",
      "1  62.788086  8.425543                     24                       11   \n",
      "2  62.788086  8.425543                     45                       17   \n",
      "3  62.788086  8.425543                     31                       14   \n",
      "4  62.788086  9.350634                     38                       13   \n",
      "\n",
      "   Mobility_Difference  Mobility_Percent_Change  \n",
      "0                   16               114.285714  \n",
      "1                   13               118.181818  \n",
      "2                   28               164.705882  \n",
      "3                   17               121.428571  \n",
      "4                   25               192.307692  \n"
     ]
    }
   ],
   "source": [
    "# Calculate the difference and percentage difference\n",
    "cleaned_df['Mobility_Difference'] = cleaned_df['Crisis: People Moving'] - cleaned_df['Baseline: People Moving']\n",
    "cleaned_df['Mobility_Percent_Change'] = ((cleaned_df['Crisis: People Moving'] - cleaned_df['Baseline: People Moving']) / \n",
    "                                            cleaned_df['Baseline: People Moving']) * 100\n",
    "\n",
    "# Preview the data\n",
    "print(cleaned_df[['x0', 'y0', 'Crisis: People Moving', 'Baseline: People Moving', \n",
    "                     'Mobility_Difference', 'Mobility_Percent_Change']].head())\n"
   ]
  },
  {
   "cell_type": "markdown",
   "id": "b414ce47-072b-444f-810f-4a9d6218042f",
   "metadata": {},
   "source": [
    "### Bar Chart for Mobility Change"
   ]
  },
  {
   "cell_type": "markdown",
   "id": "ba8cf3a8-1e9e-4cba-b7b2-99a6de7bac85",
   "metadata": {},
   "source": [
    "Show the top areas with the highest or lowest mobility difference during the crisis."
   ]
  },
  {
   "cell_type": "code",
   "execution_count": 244,
   "id": "2164615f-6a6a-4c3f-8ad2-eac0f8f65cc4",
   "metadata": {},
   "outputs": [
    {
     "data": {
      "image/png": "[encoded data removed]",
      "text/plain": [
       "<Figure size 1600x600 with 2 Axes>"
      ]
     },
     "metadata": {},
     "output_type": "display_data"
    }
   ],
   "source": [
    "import matplotlib.pyplot as plt\n",
    "import seaborn as sns\n",
    "\n",
    "# Sort data to identify highest and lowest mobility differences\n",
    "top_positive = cleaned_df.nlargest(10, 'Mobility_Difference')\n",
    "top_negative = cleaned_df.nsmallest(10, 'Mobility_Difference')\n",
    "\n",
    "# Plot Top 10 Increases and Decreases in Mobility\n",
    "fig, ax = plt.subplots(1, 2, figsize=(16, 6))\n",
    "\n",
    "# Positive Differences\n",
    "sns.barplot(data=top_positive, x='Mobility_Difference', y='x0', ax=ax[0], color='green')\n",
    "ax[0].set_title('Top 10 Areas with Increased Mobility')\n",
    "ax[0].set_xlabel('Mobility Difference')\n",
    "ax[0].set_ylabel('x0 Coordinate')\n",
    "\n",
    "# Negative Differences\n",
    "sns.barplot(data=top_negative, x='Mobility_Difference', y='x0', ax=ax[1], color='red')\n",
    "ax[1].set_title('Top 10 Areas with Decreased Mobility')\n",
    "ax[1].set_xlabel('Mobility Difference')\n",
    "ax[1].set_ylabel('x0 Coordinate')\n",
    "\n",
    "plt.tight_layout()\n",
    "plt.show()\n"
   ]
  },
  {
   "cell_type": "markdown",
   "id": "ac4c4475-89c1-42cb-bbcd-5a458a9949e0",
   "metadata": {},
   "source": [
    "Bar Chart Interpretation: \n",
    " - The left plot highlights areas where movement increased, and the right plot shows areas with the sharpest decreases."
   ]
  },
  {
   "cell_type": "markdown",
   "id": "00dc1fc6-b0b0-4acb-a92d-b513db679f28",
   "metadata": {},
   "source": [
    "# Vulnerability Analysis"
   ]
  },
  {
   "cell_type": "markdown",
   "id": "8386c144-d5b9-4e71-bee3-e8ddb6305155",
   "metadata": {},
   "source": [
    "To identify areas where mobility reduction is minimal (low percentage reduction) and flag them as \"vulnerable\" or \"high risk\", we can follow these steps:"
   ]
  },
  {
   "cell_type": "markdown",
   "id": "e8bc3b37-9525-44e1-bd4c-cfb3113e8c1a",
   "metadata": {},
   "source": [
    "### Define the Threshold for Vulnerability"
   ]
  },
  {
   "cell_type": "markdown",
   "id": "91c8f263-a4e9-4ace-aed8-e11524fe7906",
   "metadata": {},
   "source": [
    "We can define a threshold for low percentage reduction in mobility to flag areas as vulnerable. For example, if the percentage reduction is below a certain threshold (e.g., less than 10% reduction), we consider the area vulnerable or at high risk."
   ]
  },
  {
   "cell_type": "markdown",
   "id": "17869bf1-fea7-4535-86e2-70aca5dc3f75",
   "metadata": {},
   "source": [
    "### Calculate the Vulnerability flag"
   ]
  },
  {
   "cell_type": "markdown",
   "id": "872a93e8-c256-4920-bdd8-67aa1dfd40d9",
   "metadata": {},
   "source": [
    "We will calculate the percentage reduction (Mobility_Percent_Change), and then flag the rows where this reduction is minimal."
   ]
  },
  {
   "cell_type": "code",
   "execution_count": 215,
   "id": "a21a7445-320a-4db8-8912-bd0a877a017b",
   "metadata": {},
   "outputs": [
    {
     "name": "stdout",
     "output_type": "stream",
     "text": [
      "          x0        y0  Mobility_Percent_Change Vulnerability_Flag\n",
      "0  62.788086  8.425543               114.285714          High Risk\n",
      "1  62.788086  8.425543               118.181818          High Risk\n",
      "2  62.788086  8.425543               164.705882          High Risk\n",
      "3  62.788086  8.425543               121.428571          High Risk\n",
      "4  62.788086  9.350634               192.307692          High Risk\n"
     ]
    }
   ],
   "source": [
    "# Define the threshold for minimal reduction (adjust the threshold as needed)\n",
    "threshold = 10  # For example, flag areas with < 10% reduction as vulnerable\n",
    "\n",
    "# Flag areas with minimal mobility reduction (vulnerable areas)\n",
    "cleaned_df['Vulnerability_Flag'] = cleaned_df['Mobility_Percent_Change'].apply(\n",
    "    lambda x: 'High Risk' if x > -threshold else 'Low Risk'\n",
    ")\n",
    "\n",
    "# Preview the data with vulnerability flag\n",
    "print(cleaned_df[['x0', 'y0', 'Mobility_Percent_Change', 'Vulnerability_Flag']].head())\n"
   ]
  },
  {
   "cell_type": "markdown",
   "id": "1ebdfd15-abdc-49b5-ac49-f12c57e18bc1",
   "metadata": {},
   "source": [
    "### Visualise Vulnerability on a Map"
   ]
  },
  {
   "cell_type": "markdown",
   "id": "6ea96cbd-4338-41bd-ad9d-819ee8a2ae9e",
   "metadata": {},
   "source": [
    "We can use a map to visualise the flagged vulnerable areas. The areas with minimal reduction will be marked as \"High Risk\" or \"Vulnerable.\""
   ]
  },
  {
   "cell_type": "code",
   "execution_count": null,
   "id": "0ac60de6-ae0b-4627-aae7-3b8f3d9fe162",
   "metadata": {},
   "outputs": [],
   "source": [
    "# Create a Folium map centred around the average coordinates\n",
    "map_center = [cleaned_df['y0'].mean(), cleaned_df['x0'].mean()]\n",
    "vulnerability_map = folium.Map(location=map_center, zoom_start=6)\n",
    "\n",
    "# Add points to the map for high-risk areas (vulnerable)\n",
    "for _, row in cleaned_df.iterrows():\n",
    "    # Use different colours based on the vulnerability flag\n",
    "    color = 'red' if row['Vulnerability_Flag'] == 'High Risk' else 'blue'\n",
    "    \n",
    "    folium.CircleMarker(\n",
    "        location=[row['y0'], row['x0']],\n",
    "        radius=5,\n",
    "        color=color,\n",
    "        fill=True,\n",
    "        fill_opacity=0.7,\n",
    "        popup=f\"Baseline: {row['Baseline: People Moving']}<br>\"\n",
    "              f\"Crisis: {row['Crisis: People Moving']}<br>\"\n",
    "              f\"Percent Change: {row['Mobility_Percent_Change']}<br>\"\n",
    "              f\"Vulnerability: {row['Vulnerability_Flag']}\"\n",
    "    ).add_to(vulnerability_map)\n",
    "\n",
    "# Save and display the map\n",
    "vulnerability_map.save('vulnerability_map.html')\n",
    "vulnerability_map\n"
   ]
  },
  {
   "cell_type": "markdown",
   "id": "081becfe-136e-48e5-9c59-cf92c6b68a73",
   "metadata": {},
   "source": [
    "Interpretation:\n",
    "- The threshold is set to 10% for vulnerability. Areas with a percentage reduction greater than 10% are considered \"High Risk\"."
   ]
  },
  {
   "cell_type": "markdown",
   "id": "739c4d8b-06c8-4ca7-851a-a4563b1a57fb",
   "metadata": {},
   "source": [
    "Colour Coding:\n",
    " - Red indicates High Risk or vulnerable areas (where mobility reduction is minimal).\n",
    " - Blue indicates areas not flagged as vulnerable"
   ]
  },
  {
   "cell_type": "markdown",
   "id": "142aceba-4b25-40ee-8bcf-c68ff76195be",
   "metadata": {},
   "source": [
    "Recommendations:"
   ]
  },
  {
   "cell_type": "markdown",
   "id": "ba1554d3-ddfe-431e-b462-70633b3ecb26",
   "metadata": {},
   "source": [
    "1. Targeted Interventions: Focus on vulnerable regions (with minimal mobility reduction) to understand the cause behind the continued movement and whether it represents a lack of crisis adaptation or resilience."
   ]
  },
  {
   "cell_type": "markdown",
   "id": "a5738d6e-b8e9-487f-9bdd-7c2bb83e40da",
   "metadata": {},
   "source": [
    "2. Monitor High-Risk Areas: Ensure that areas with the lowest mobility reductions are given attention in terms of public health and crisis management policies. These areas may require additional interventions or support."
   ]
  },
  {
   "cell_type": "markdown",
   "id": "b147abf7-0a30-4e26-9c64-9b5499bd733c",
   "metadata": {},
   "source": [
    "3. Further Analysis: Investigate why certain routes experienced high movement even during the crisis. These corridors could indicate essential services or be hotspots requiring special attention."
   ]
  },
  {
   "cell_type": "markdown",
   "id": "9365b652-25be-42f3-a238-319be2912b93",
   "metadata": {},
   "source": [
    "4. Review Response Strategies: Evaluate if the crisis response is sufficiently impacting movement across all regions. Identify why some regions experienced a minimal reduction in mobility, potentially pointing to weaknesses in response measures.\n",
    "\n"
   ]
  },
  {
   "cell_type": "code",
   "execution_count": null,
   "id": "6a4d5874-3329-471c-a22b-37aeb3061635",
   "metadata": {},
   "outputs": [],
   "source": []
  }
 ],
 "metadata": {
  "kernelspec": {
   "display_name": "Python 3 (ipykernel)",
   "language": "python",
   "name": "python3"
  },
  "language_info": {
   "codemirror_mode": {
    "name": "ipython",
    "version": 3
   },
   "file_extension": ".py",
   "mimetype": "text/x-python",
   "name": "python",
   "nbconvert_exporter": "python",
   "pygments_lexer": "ipython3",
   "version": "3.12.3"
  }
 },
 "nbformat": 4,
 "nbformat_minor": 5
}
